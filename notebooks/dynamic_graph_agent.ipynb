{
 "cells": [
  {
   "cell_type": "code",
   "execution_count": 3,
   "metadata": {},
   "outputs": [
    {
     "name": "stdout",
     "output_type": "stream",
     "text": [
      "step 1, the type is process, the instruction is identify the input data type based on the objective. if next, then go to step 2. \n",
      "step 2, the type is process, the instruction is identify the output data type based on the objective. if next, then go to step 3. \n",
      "step 3, the type is process, the instruction is Select models in provided models list to enerate a to-do list to make sure the first model is able to handle the input data type and the last model generate the output data type. if next, then go to step 4. \n",
      "step 4, the type is decision, the instruction is Check whether every models in the generated to-do list is in the provided models. if yes, then go to step 5. if no, then go to step 3. \n",
      "step 5, the type is decision, the instruction is Check the to-do list, to see whether the previous model output data type is the input data type of the next model. if yes, then go to step 6. if no, then go to step 3. \n",
      "step 6, the type is terminal, the instruction is Output the to-do list solely with model name. \n",
      "\n"
     ]
    }
   ],
   "source": [
    "from flow.flow import Flow\n",
    "\n",
    "flow = Flow(\"OpenAGI_Flow.txt\")\n",
    "\n",
    "print(flow)"
   ]
  },
  {
   "cell_type": "code",
   "execution_count": null,
   "metadata": {},
   "outputs": [],
   "source": []
  }
 ],
 "metadata": {
  "kernelspec": {
   "display_name": "tradesly-exp",
   "language": "python",
   "name": "python3"
  },
  "language_info": {
   "codemirror_mode": {
    "name": "ipython",
    "version": 3
   },
   "file_extension": ".py",
   "mimetype": "text/x-python",
   "name": "python",
   "nbconvert_exporter": "python",
   "pygments_lexer": "ipython3",
   "version": "3.12.8"
  }
 },
 "nbformat": 4,
 "nbformat_minor": 2
}
